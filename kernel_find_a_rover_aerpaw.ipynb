{
  "cells": [
    {
      "cell_type": "markdown",
      "metadata": {
        "id": "M3OlX7kn1Mue"
      },
      "source": [
        "# Lab: UAV-assisted wireless localization\n",
        "\n",
        "_Fraida Fund_"
      ]
    },
    {
      "cell_type": "markdown",
      "metadata": {
        "id": "lRVbUAj64KsW"
      },
      "source": [
        "* **Net ID**:\n",
        "* **Name**:"
      ]
    },
    {
      "cell_type": "code",
      "execution_count": null,
      "metadata": {
        "id": "i4KJQuHLq58s"
      },
      "outputs": [],
      "source": [
        "!pip install bayesian-optimization==2.0.0 numpy==1.26.4 scikit_learn==1.5.2"
      ]
    },
    {
      "cell_type": "markdown",
      "metadata": {},
      "source": [
        "After running the cell above, use Runtime > Restart Session from the Colab menu. Then, continue with the next cell."
      ]
    },
    {
      "cell_type": "code",
      "execution_count": null,
      "metadata": {
        "id": "Hw1hR9ly8hSv"
      },
      "outputs": [],
      "source": [
        "import numpy as np\n",
        "import pandas as pd\n",
        "import pickle\n",
        "import hashlib\n",
        "\n",
        "from bayes_opt import BayesianOptimization, acquisition\n",
        "from sklearn.gaussian_process.kernels import Matern, WhiteKernel, RBF\n",
        "\n",
        "import geopy.distance\n",
        "\n",
        "import matplotlib.pyplot as plt\n",
        "from matplotlib import cm\n",
        "from mpl_toolkits.mplot3d import axes3d\n",
        "from ipywidgets import interact, fixed, widgets\n",
        "from mpl_toolkits import mplot3d\n",
        "from IPython.core.interactiveshell import InteractiveShell\n",
        "plt.rcParams['axes.formatter.useoffset'] = False"
      ]
    },
    {
      "cell_type": "code",
      "execution_count": null,
      "metadata": {
        "id": "gU_NwR_6IOIV"
      },
      "outputs": [],
      "source": [
        "!git clone https://github.com/teaching-on-testbeds/uav-wireless-localization uav_wireless_localization"
      ]
    },
    {
      "cell_type": "code",
      "execution_count": null,
      "metadata": {},
      "outputs": [],
      "source": [
        "from uav_wireless_localization.uav_utils import *"
      ]
    },
    {
      "cell_type": "markdown",
      "metadata": {
        "id": "_pHEnkHuc8y1"
      },
      "source": [
        "Use the file browser in Google Colab to upload rover search CSV files and pickled optimizer files to Colab."
      ]
    },
    {
      "cell_type": "markdown",
      "metadata": {
        "id": "nKC2B1UwlIF7"
      },
      "source": [
        "## Analyze experiment results from \"default\" experiment"
      ]
    },
    {
      "cell_type": "markdown",
      "metadata": {
        "id": "Ybl6NIvedKOx"
      },
      "source": [
        "Once you have uploaded `ROVER_SEARCH_DATA_default.csv` and `opt_final_default.pickle` to Colab, we can analyze the results of this \"baseline\" experiment."
      ]
    },
    {
      "cell_type": "code",
      "execution_count": null,
      "metadata": {
        "id": "Dw_AqcPqn0rr"
      },
      "outputs": [],
      "source": [
        "true_lat_default = 35.729\n",
        "true_lon_default = -78.699"
      ]
    },
    {
      "cell_type": "code",
      "execution_count": null,
      "metadata": {},
      "outputs": [],
      "source": [
        "df_results_default = pd.read_csv('ROVER_SEARCH_DATA_default.csv')\n",
        "with open('opt_final_default.pickle', 'rb') as handle:\n",
        "    optimizer_default = pickle.load(handle)"
      ]
    },
    {
      "cell_type": "markdown",
      "metadata": {},
      "source": [
        "then plot with"
      ]
    },
    {
      "cell_type": "code",
      "execution_count": null,
      "metadata": {},
      "outputs": [],
      "source": [
        "vis_optimizer(optimizer_default, true_lat_default, true_lon_default)"
      ]
    },
    {
      "cell_type": "code",
      "execution_count": null,
      "metadata": {},
      "outputs": [],
      "source": [
        "def plot_3D_with_opt(elev, azim):\n",
        "    plot_3D(optimizer_default, elev, azim)\n",
        "\n",
        "interact(plot_3D_with_opt, elev=widgets.IntSlider(min=-90, max=90, step=10, value=20),\n",
        "          azim=widgets.IntSlider(min=-90, max=90, step=10, value=-70));\n"
      ]
    },
    {
      "cell_type": "markdown",
      "metadata": {},
      "source": [
        "and look at the estimation error vs time with:"
      ]
    },
    {
      "cell_type": "code",
      "execution_count": null,
      "metadata": {},
      "outputs": [],
      "source": [
        "plot_position_error_over_time(df_results_default, true_lat_default, true_lon_default)"
      ]
    },
    {
      "cell_type": "markdown",
      "metadata": {
        "id": "0BlDcWxn5OdJ"
      },
      "source": [
        "Also note the fitted kernel parameters of the final model -"
      ]
    },
    {
      "cell_type": "code",
      "execution_count": null,
      "metadata": {
        "id": "WDbi4uam_eFS"
      },
      "outputs": [],
      "source": [
        "kernel_default = optimizer_default._gp.kernel_.get_params()\n",
        "kernel_default"
      ]
    },
    {
      "cell_type": "markdown",
      "metadata": {
        "id": "PvrQajRHgoVs"
      },
      "source": [
        "## Analyze results from rover search with new location"
      ]
    },
    {
      "cell_type": "markdown",
      "metadata": {
        "id": "BZhOvjpnwFPu"
      },
      "source": [
        "You will run this experiment for a different starting position of the ground vehicle (i.e. the hikers). To generate the new start position, you will put your net ID in the relevant line of the following cell, un-comment the cell, and then run it."
      ]
    },
    {
      "cell_type": "code",
      "execution_count": null,
      "metadata": {
        "id": "h48Ld9WswM9w"
      },
      "outputs": [],
      "source": [
        "# netID = \"ff524\"  # Replace with your netID\n",
        "\n",
        "hash_object = hashlib.md5(netID.encode())\n",
        "seed = int(hash_object.hexdigest(), 16) % (2**32)\n",
        "np.random.seed(seed)\n",
        "print(seed)\n",
        "\n",
        "BOUND_NE={'lat':35.73030799378120, 'lon':-78.69670002283071}\n",
        "BOUND_NW={'lat':35.73030799378120, 'lon':-78.69980159100491}\n",
        "BOUND_SE={'lat':35.72774492720433, 'lon':-78.69670002283071}\n",
        "BOUND_SW={'lat':35.72774492720433, 'lon':-78.69980159100491}\n",
        "\n",
        "true_lat_new = np.random.uniform(BOUND_SE['lat'], BOUND_NE['lat'])\n",
        "true_lon_new = np.random.uniform(BOUND_SE['lon'], BOUND_SW['lon'])\n",
        "print(true_lat_new, true_lon_new)"
      ]
    },
    {
      "cell_type": "markdown",
      "metadata": {},
      "source": [
        "After you have run the experiment with the new location, and uploaded your data:"
      ]
    },
    {
      "cell_type": "code",
      "execution_count": null,
      "metadata": {},
      "outputs": [],
      "source": [
        "df_results_new = pd.read_csv('ROVER_SEARCH_DATA_new.csv')\n",
        "with open('opt_final_new.pickle', 'rb') as handle:\n",
        "    optimizer_new = pickle.load(handle)"
      ]
    },
    {
      "cell_type": "code",
      "execution_count": null,
      "metadata": {},
      "outputs": [],
      "source": [
        "vis_optimizer(optimizer_new, true_lat_new, true_lon_new)"
      ]
    },
    {
      "cell_type": "code",
      "execution_count": null,
      "metadata": {},
      "outputs": [],
      "source": [
        "def plot_3D_with_opt(elev, azim):\n",
        "    plot_3D(optimizer_new, elev, azim)\n",
        "\n",
        "interact(plot_3D_with_opt, elev=widgets.IntSlider(min=-90, max=90, step=10, value=20),\n",
        "          azim=widgets.IntSlider(min=-90, max=90, step=10, value=-70));\n"
      ]
    },
    {
      "cell_type": "code",
      "execution_count": null,
      "metadata": {},
      "outputs": [],
      "source": [
        "plot_position_error_over_time(df_results_new, true_lat_new, true_lon_new)"
      ]
    },
    {
      "cell_type": "code",
      "execution_count": null,
      "metadata": {},
      "outputs": [],
      "source": [
        "kernel_new = optimizer_new._gp.kernel_.get_params()\n",
        "kernel_new"
      ]
    },
    {
      "cell_type": "markdown",
      "metadata": {},
      "source": [
        "## Analyze results from rover search with custom model"
      ]
    },
    {
      "cell_type": "code",
      "execution_count": null,
      "metadata": {},
      "outputs": [],
      "source": [
        "df_results_custom = pd.read_csv('ROVER_SEARCH_DATA_custom.csv')\n",
        "with open('opt_final_custom.pickle', 'rb') as handle:\n",
        "    optimizer_custom = pickle.load(handle)"
      ]
    },
    {
      "cell_type": "code",
      "execution_count": null,
      "metadata": {},
      "outputs": [],
      "source": [
        "vis_optimizer(optimizer_custom, true_lat_new, true_lon_new)"
      ]
    },
    {
      "cell_type": "code",
      "execution_count": null,
      "metadata": {},
      "outputs": [],
      "source": [
        "def plot_3D_with_opt(elev, azim):\n",
        "    plot_3D(optimizer_custom, elev, azim)\n",
        "\n",
        "interact(plot_3D_with_opt, elev=widgets.IntSlider(min=-90, max=90, step=10, value=20),\n",
        "          azim=widgets.IntSlider(min=-90, max=90, step=10, value=-70));\n"
      ]
    },
    {
      "cell_type": "code",
      "execution_count": null,
      "metadata": {},
      "outputs": [],
      "source": [
        "plot_position_error_over_time(df_results_custom, true_lat_new, true_lon_new)"
      ]
    },
    {
      "cell_type": "code",
      "execution_count": null,
      "metadata": {},
      "outputs": [],
      "source": [
        "kernel_custom = optimizer_custom._gp.kernel_.get_params()\n",
        "kernel_custom"
      ]
    },
    {
      "cell_type": "markdown",
      "metadata": {
        "id": "NX_vKWS69Gin"
      },
      "source": [
        "Verify that you have met the specific requirements. Then, comment on the results, specifically:\n",
        "\n",
        "* what changes did you make do the default settings of the optimizer and model?\n",
        "* how has the appearance of the fitted model changed from the previous experiment, and why?\n",
        "* what change do you see in the fitted model kernel parameters? \n",
        "\n",
        "Write your answers in the cell below."
      ]
    },
    {
      "cell_type": "markdown",
      "metadata": {},
      "source": []
    }
  ],
  "metadata": {
    "colab": {
      "provenance": []
    },
    "kernelspec": {
      "display_name": "Python 3",
      "name": "python3"
    },
    "language_info": {
      "name": "python"
    }
  },
  "nbformat": 4,
  "nbformat_minor": 0
}
