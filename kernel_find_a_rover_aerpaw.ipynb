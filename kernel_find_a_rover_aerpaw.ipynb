{
  "cells": [
    {
      "cell_type": "markdown",
      "metadata": {
        "id": "M3OlX7kn1Mue"
      },
      "source": [
        "# Lab: UAV-assisted wireless localization\n",
        "\n",
        "_Fraida Fund_"
      ]
    },
    {
      "cell_type": "markdown",
      "metadata": {
        "id": "lRVbUAj64KsW"
      },
      "source": [
        "* **Net ID**:\n",
        "* **Name**:"
      ]
    },
    {
      "cell_type": "markdown",
      "metadata": {
        "id": "6bOheeQI1UCH"
      },
      "source": [
        "You've been asked to contribute your machine learning expertise to a crucial and potentially life-saving mission.\n",
        "\n",
        "A pair of hikers has gone missing in a national park, and they are believed to be critically injured. Fortunately, they have activated a wireless locator beacon, and it transmits a constant wireless signal from their location. Unfortunately, their beacon was not able to get a satellite fix, so their GPS position is not known.\n",
        "\n",
        "To rescue the injured hikers, therefore, their location must be estimated using the signal strength of the wireless signal from the beacon: when a radio receiver is close to the beacon, the signal strength will be high. When a radio receiver is far from the beacon, the signal strength will be lower.  (The relationship is noisy, however; the wireless signal also fluctuates over time, even with a constant distance.)\n",
        "\n",
        "You are going to fly an unmanned aerial vehicle (UAV) with a radio receiver around the area where they were last seen, and use the received wireless signal strength to fit a machine learning model that will estimate the hikers' position. Then, you'll relay this information to rescuers, who will try to reach that position by land. (Unfortunately, due to dense tree cover, the UAV will not be able to visually confirm their position.)\n",
        "\n",
        "There is a complication, though - the UAV has a limited battery life, and therefore, limited flight time. You'll have to get an accurate estimate of the hikers' position in a very short time!\n",
        "\n"
      ]
    },
    {
      "cell_type": "markdown",
      "metadata": {
        "id": "781atfrtfus0"
      },
      "source": [
        "---\n",
        "\n",
        "#### Objectives\n",
        "\n",
        "In this experiment, you will:\n",
        "\n",
        "* observe how the RBF kernel is used in a Gaussian Process Regression\n",
        "* observe how the Gaussian Process Regression approximates the true function\n",
        "* observe how Bayesian Optimization is used to decide which data point to acquire next.\n"
      ]
    },
    {
      "cell_type": "markdown",
      "metadata": {
        "id": "pDYAlSzHg1z0"
      },
      "source": [
        "---\n",
        "\n",
        "#### Prerequisites\n",
        "\n",
        "To complete this assignment, you should already have an account on AERPAW with the experimenter role, be part of a project, have all the necessary software to work with AERPAW experiments. You should also have already created an experiment with one UAV and one UGV. (See: [Hello, AERPAW](https://teaching-on-testbeds.github.io/hello-aerpaw/))"
      ]
    },
    {
      "cell_type": "markdown",
      "metadata": {
        "id": "7LigNAxqqeOX"
      },
      "source": [
        "---\n",
        "\n",
        "#### Citations\n",
        "\n",
        "This experiment uses the Bayesian Optimization implementation of\n",
        "\n",
        ">  Fernando Nogueira, \"Bayesian Optimization: Open source constrained global optimization tool for Python,\" 2014. Available: https://github.com/fmfn/BayesianOptimization\n",
        "\n",
        "It uses the AERPAW testbed:\n",
        "\n",
        "> V. Marojevic, I. Guvenc, R. Dutta, M. Sichitiu, and B. Floyd, \"Advanced Wireless for Unmanned Aerial Systems:5G Standardization, Research Challenges, and AERPAW Experimentation Platform\", IEEE Vehic. Technol. Mag., vol. 15, no. 2. pp. 22-30, June 2020. DOI: 10.1109/MVT.2020.2979494.\n",
        "\n",
        "\n",
        "\n",
        "and it uses a rover search implementation developed for the \"Find a Rover\" challenge:\n",
        "\n",
        "> Kudyba, Paul, Jaya Sravani Mandapaka, Weijie Wang, Logan McCorkendale, Zachary McCorkendale, Mathias Kidane, Haijian Sun et al. \"A UAV-assisted wireless localization challenge on AERPAW.\" arXiv preprint arXiv:2407.12180 (2024). https://arxiv.org/abs/2407.12180\n",
        "\n",
        "The figures in the background section are from:\n",
        "\n",
        "> Wang, Jie. \"An intuitive tutorial to Gaussian processes regression.\" Computing in Science & Engineering (2023). https://arxiv.org/abs/2009.10862\n",
        "\n",
        "with contributions by Yufei Zhen.\n"
      ]
    },
    {
      "cell_type": "code",
      "execution_count": null,
      "metadata": {
        "id": "i4KJQuHLq58s"
      },
      "outputs": [],
      "source": [
        "!pip install bayesian-optimization==2.0.0 numpy==1.26.4 scikit_learn==1.5.2"
      ]
    },
    {
      "cell_type": "code",
      "execution_count": null,
      "metadata": {
        "id": "Hw1hR9ly8hSv"
      },
      "outputs": [],
      "source": [
        "import numpy as np\n",
        "import pandas as pd\n",
        "import pickle\n",
        "\n",
        "from bayes_opt import BayesianOptimization, acquisition\n",
        "from sklearn.gaussian_process.kernels import Matern, WhiteKernel, RBF\n",
        "\n",
        "import geopy.distance\n",
        "\n",
        "import matplotlib.pyplot as plt\n",
        "from matplotlib import cm\n",
        "from mpl_toolkits.mplot3d import axes3d\n",
        "from ipywidgets import interact, fixed, widgets\n",
        "from mpl_toolkits import mplot3d\n",
        "from IPython.core.interactiveshell import InteractiveShell\n",
        "plt.rcParams['axes.formatter.useoffset'] = False\n",
        "\n",
        "import moviepy.editor\n"
      ]
    },
    {
      "cell_type": "code",
      "execution_count": null,
      "metadata": {
        "id": "gU_NwR_6IOIV"
      },
      "outputs": [],
      "source": [
        "!git clone https://github.com/teaching-on-testbeds/uav-wireless-localization"
      ]
    },
    {
      "cell_type": "markdown",
      "metadata": {
        "id": "-mV80lct1W5g"
      },
      "source": [
        "## Framing the problem"
      ]
    },
    {
      "cell_type": "markdown",
      "metadata": {
        "id": "u3bC1Axr1b5e"
      },
      "source": [
        "We are going to estimate the hikers' position based on the premise that the received signal strength is highest when the UAV is at the same latitude and longitude as the hikers.\n",
        "\n",
        "We will frame our machine learning problem as follows:\n",
        "\n",
        "* features $X$: latitude, longitude\n",
        "* target variable $y$: received signal strength\n",
        "\n",
        "In other words, given a coordinate (latitude and longitude) we want to predict the received signal strength at that location.\n",
        "\n",
        "However, we don't really care if our model is bad at predicting the signal strength in places where it is low! Our *true* goal is to predict where the target variable will be highest. We will decide how \"good\" our model is by computing the mean squared error of the position estimate: the distance between the true location of the hikers, and the coordinate that our model predicts has the highest received signal strength."
      ]
    },
    {
      "cell_type": "markdown",
      "metadata": {
        "id": "JzYKYKrtpJnO"
      },
      "source": [
        "## Run a rover search experiment on AERPAW"
      ]
    },
    {
      "cell_type": "markdown",
      "metadata": {
        "id": "blelLNHspMfB"
      },
      "source": [
        "This sequence assumed you have already\n",
        "\n",
        "* [created an account on AERPAW and joined a project](https://teaching-on-testbeds.github.io/hello-aerpaw/index#create-an-account-on-aerpaw) (one-time step)\n",
        "* [created an experiment with a UGV and UAV and initiated development mode](https://teaching-on-testbeds.github.io/hello-aerpaw/index#start-an-experiment) (one-time step until you retire the experiment)"
      ]
    },
    {
      "cell_type": "markdown",
      "metadata": {},
      "source": [
        "Then, you should have already investigated the effect of \n",
        "\n",
        "* the `kappa` hyperparameter\n",
        "* the use of a `WhiteKernel`\n",
        "* and the effect of setting the `noise_level_bounds` of the `WhiteKernel` and `length_scale_bounds` of the `RBF` kernel"
      ]
    },
    {
      "cell_type": "markdown",
      "metadata": {},
      "source": [
        "Finally, when you are ready to test your model in the \"real\" search environment, you need to [set up access to experiment resources](https://teaching-on-testbeds.github.io/hello-aerpaw/index#access-experiment-resources), including:\n",
        "\n",
        "* connecting your computer to the AERPAW VPN,\n",
        "* opening an SSH session to the experiment console,\n",
        "* opening an SSH session to the UAV VM (node 1 in the experiment),\n",
        "* opening an SSH session to the UGV VM (node 2 in the experiment).\n",
        "* if you will use QGroundControl: connecting QGroundControl, and setting up the `AFAR Rover.kml` geofence,\n"
      ]
    },
    {
      "cell_type": "markdown",
      "metadata": {
        "id": "EHJiUqCFVkrV"
      },
      "source": [
        "You may review [Hello, AERPAW](https://teaching-on-testbeds.github.io/hello-aerpaw/) as a reference for those last steps."
      ]
    },
    {
      "cell_type": "markdown",
      "metadata": {
        "id": "celxA8CVtT0J"
      },
      "source": [
        "### Set up experiment"
      ]
    },
    {
      "cell_type": "markdown",
      "metadata": {
        "id": "brH8D8MvtRpe"
      },
      "source": [
        "Now, we will configure applications that will run in the experiment - the radio transmitter (on UGV) and radio receiver (on UAV), and the Bayes search on the UAV."
      ]
    },
    {
      "cell_type": "markdown",
      "metadata": {
        "id": "nIZImASidnKf"
      },
      "source": [
        "Inside the SSH session on the UAV (node 1 in the experiment), install the `bayesian-optimization` package, which we will use to implement a Bayes search:\n",
        "\n",
        "```\n",
        "python3 -m pip install --target=/root/Profiles/vehicle_control/RoverSearch bayesian-optimization==2.0.0 numpy==1.26.4 scikit_learn==1.5.2\n",
        "```\n",
        "\n",
        "Download the `rover-search.py` script:\n",
        "\n",
        "```\n",
        "wget https://raw.githubusercontent.com/teaching-on-testbeds/uav-wireless-localization/refs/heads/main/rover_search.py -O  /root/Profiles/vehicle_control/RoverSearch/rover_search.py\n",
        "```\n",
        "\n",
        "and the signal power plotting script:\n",
        "\n",
        "```\n",
        "wget https://raw.githubusercontent.com/teaching-on-testbeds/hello-aerpaw/refs/heads/main/resources/plot_signal_power.py -O  /root/plot_signal_power.py\n",
        "```\n"
      ]
    },
    {
      "cell_type": "markdown",
      "metadata": {
        "id": "mVv1k6OCt-GC"
      },
      "source": [
        "Still in the SSH session on the UAV (node 1 in the experiment), set up the applications that will run during our experiment - a radio receiver and a vehicle control script that implements our search with Gaussian Process Regression and Bayesian Optimization:\n",
        "\n",
        "\n",
        "```\n",
        "cd /root/Profiles/ProfileScripts/Radio \n",
        "cp Samples/startGNURadio-ChannelSounder-RX.sh startRadio.sh \n",
        "\n",
        "cd /root/Profiles/ProfileScripts/Vehicle\n",
        "cp Samples/startRoverSearch.sh startVehicle.sh\n",
        "\n",
        "cd /root\n",
        "```\n",
        "\n",
        "\n",
        "We will also change one parameter of the radio receiver. Run:\n",
        "\n",
        "```\n",
        "sed -i 's/^SPS=.*/SPS=8/' \"/root/Profiles/ProfileScripts/Radio/Helpers/startchannelsounderRXGRC.sh\"\n",
        "```\n"
      ]
    },
    {
      "cell_type": "markdown",
      "metadata": {
        "id": "YnRLn1wcuMOO"
      },
      "source": [
        "Then, open the experiment script for editing\n",
        "\n",
        "```\n",
        "cd /root\n",
        "nano /root/startexperiment.sh\n",
        "```\n",
        "\n",
        "and at the bottom of this file, remove the `#` comment sign next to `./Radio/startRadio.sh` and `./Vehicle/startVehicle.sh`, so that the end of the file looks like this:\n",
        "\n",
        "```\n",
        "./Radio/startRadio.sh\n",
        "#./Traffic/startTraffic.sh\n",
        "./Vehicle/startVehicle.sh\n",
        "```\n",
        "\n",
        "Hit Ctrl+O and then hit Enter to save the file. Then use Ctrl+X to exit and return to the terminal."
      ]
    },
    {
      "cell_type": "markdown",
      "metadata": {
        "id": "tP5YWuNUtnof"
      },
      "source": [
        "Now we will set up the UGV.\n",
        "\n",
        "Inside an SSH session on the UGV (node 2 in the experiment), set up the applications that will run during our experiment - a radio transmitter and a vehicle GPS position logger:\n",
        "\n",
        "```\n",
        "cd /root/Profiles/ProfileScripts/Radio \n",
        "cp Samples/startGNURadio-ChannelSounder-TX.sh startRadio.sh \n",
        "\n",
        "cd /root/Profiles/ProfileScripts/Vehicle\n",
        "cp Samples/startGPSLogger.sh startVehicle.sh\n",
        "\n",
        "cd /root\n",
        "```\n",
        "\n",
        "We will also change one parameter of the radio transmitter. Run:\n",
        "\n",
        "```\n",
        "sed -i 's/^SPS=.*/SPS=8/' \"/root/Profiles/ProfileScripts/Radio/Helpers/startchannelsounderTXGRC.sh\"\n",
        "```"
      ]
    },
    {
      "cell_type": "markdown",
      "metadata": {
        "id": "pKzrfV1atzSN"
      },
      "source": [
        "Then, open the experiment script for editing\n",
        "\n",
        "```\n",
        "cd /root\n",
        "nano /root/startexperiment.sh\n",
        "```\n",
        "\n",
        "and at the bottom of this file, remove the `#` comment sign next to `./Radio/startRadio.sh` and `./Vehicle/startVehicle.sh`, so that the end of the file looks like this:\n",
        "\n",
        "```\n",
        "./Radio/startRadio.sh\n",
        "#./Traffic/startTraffic.sh\n",
        "./Vehicle/startVehicle.sh\n",
        "```\n",
        "\n",
        "Hit Ctrl+O and then hit Enter to save the file. Then use Ctrl+X to exit and return to the terminal."
      ]
    },
    {
      "cell_type": "markdown",
      "metadata": {
        "id": "fgu35KP-PYbz"
      },
      "source": [
        "### Setup steps in experiment console"
      ]
    },
    {
      "cell_type": "markdown",
      "metadata": {
        "id": "06Gp3mkALLuw"
      },
      "source": [
        "> **Note**: a video of this section is included at the end of the section."
      ]
    },
    {
      "cell_type": "markdown",
      "metadata": {
        "id": "CDtn76F57eLq"
      },
      "source": [
        "On the experiment console, run\n",
        "\n",
        "```\n",
        "./startOEOConsole.sh\n",
        "```\n",
        "\n",
        "and add a column showing the position of each vehicle; in the experiment console run\n",
        "\n",
        "```\n",
        "add vehicle/position\n",
        "```\n",
        "\n",
        "and you will see a `vehicle/position` column added to the end of the table."
      ]
    },
    {
      "cell_type": "markdown",
      "metadata": {
        "id": "6C0bRWRSMv7F"
      },
      "source": [
        "\n",
        "Then, in this experiment console window, set the start position of the UGV (node 2):\n",
        "\n",
        "```\n",
        "2 start_location 35.729 -78.699\n",
        "```\n",
        "\n",
        "and restart the controller on the UGV, so that the change of start location will take effect:\n",
        "\n",
        "```\n",
        "2 restart_cvm\n",
        "```\n"
      ]
    },
    {
      "cell_type": "markdown",
      "metadata": {
        "id": "HBp2MBQwlky8"
      },
      "source": [
        "If you are also watching in QGroundControl: In QGroundControl, the connection to the UGV may be briefly lost. Then it will return, and the UGV will be at the desired start location.\n"
      ]
    },
    {
      "cell_type": "markdown",
      "metadata": {
        "id": "3gGr9jvTsh4R"
      },
      "source": [
        "Even if you are not watching in QGroundControl, you will see in the `vehicle/position` column in the experiment console that the UGV (node 2) is at the position we have set."
      ]
    },
    {
      "cell_type": "code",
      "execution_count": null,
      "metadata": {
        "id": "cMAv0KNJKySb"
      },
      "outputs": [],
      "source": [
        "moviepy.editor.ipython_display(\"uav-wireless-localization/video/aerpaw_exp_console_an.mp4\", width=800)\n"
      ]
    },
    {
      "cell_type": "markdown",
      "metadata": {
        "id": "i-eMxmsy7M5C"
      },
      "source": [
        "### Run experiment"
      ]
    },
    {
      "cell_type": "markdown",
      "metadata": {
        "id": "KpyAea6H7Or2"
      },
      "source": [
        "Now we are ready to run an experiment!"
      ]
    },
    {
      "cell_type": "markdown",
      "metadata": {
        "id": "R3OhVaa9Pkte"
      },
      "source": [
        "#### Reset"
      ]
    },
    {
      "cell_type": "markdown",
      "metadata": {
        "id": "2Q3Y-9xTLQRX"
      },
      "source": [
        "> **Note**: a video of this section is included at the end of the section."
      ]
    },
    {
      "cell_type": "markdown",
      "metadata": {
        "id": "yWXALJqQOM2e"
      },
      "source": [
        "Start from a \"clean slate\" - on the UAV VM (node 1) and the UGV VM (node 2), run\n",
        "\n",
        "```\n",
        "cd /root\n",
        "./stopexperiment.sh\n",
        "```\n",
        "\n",
        "to stop any sessions that may be lingering from previous experiments."
      ]
    },
    {
      "cell_type": "markdown",
      "metadata": {
        "id": "X18aq5fJib9K"
      },
      "source": [
        "You should also reset the virtual channel emulator in between runs - on *either* VM (node 1 or node 2) run\n",
        "\n",
        "```\n",
        "./reset.sh\n",
        "```"
      ]
    },
    {
      "cell_type": "code",
      "execution_count": null,
      "metadata": {
        "id": "Pw-GUZi2LUUY"
      },
      "outputs": [],
      "source": [
        "moviepy.editor.ipython_display(\"uav-wireless-localization/video/aerpaw_reset_experiment_an.mp4\", width=800)\n"
      ]
    },
    {
      "cell_type": "markdown",
      "metadata": {
        "id": "NkhLVDnhHMeu"
      },
      "source": [
        "#### Start experiment"
      ]
    },
    {
      "cell_type": "markdown",
      "metadata": {
        "id": "MUbBTW2XNl5R"
      },
      "source": [
        "> **Note**: a video of this section is included at the end of the section."
      ]
    },
    {
      "cell_type": "markdown",
      "metadata": {
        "id": "j6jIpaye7xGw"
      },
      "source": [
        "On the UGV VM (node 2), run\n",
        "\n",
        "```\n",
        "cd /root\n",
        "./startexperiment.sh\n",
        "```\n"
      ]
    },
    {
      "cell_type": "markdown",
      "metadata": {
        "id": "PyhH33HD76fs"
      },
      "source": [
        "In the terminal in which you are connected to the experiment console (with a table showing the state of the two vehicles) run\n",
        "\n",
        "\n",
        "```\n",
        "2 arm\n",
        "```\n",
        "\n",
        "In this table, for vehicle 2, you should see a \"vehicle\" and \"txGRC\" entry in the \"screens\" column.\n",
        "\n"
      ]
    },
    {
      "cell_type": "markdown",
      "metadata": {
        "id": "vMah5ZFF8DiK"
      },
      "source": [
        "On the UAV VM (node 1), run\n",
        "\n",
        "```\n",
        "cd /root\n",
        "./startexperiment.sh\n",
        "```\n",
        "\n",
        "and wait a few moments, until you see the new processes appear in the \"screens\" column of the experiment console.\n"
      ]
    },
    {
      "cell_type": "markdown",
      "metadata": {
        "id": "DjksCQzOBLvW"
      },
      "source": [
        "Then check the log of the vehicle navigation process by running (on the UAV VM, node 1):\n",
        "\n",
        "```\n",
        "tail -f Results/$(ls -tr Results/ | grep vehicle_log | tail -n 1 )\n",
        "```\n",
        "\n",
        "You should see a message\n",
        "\n",
        "```\n",
        "Guided command attempted. Waiting for safety pilot to arm\n",
        "```\n",
        "\n",
        "When you see this message, you can use Ctrl+C to stop watching the vehicle log."
      ]
    },
    {
      "cell_type": "markdown",
      "metadata": {
        "id": "nBY8HHZcNY6B"
      },
      "source": [
        "In the experiment console, run\n",
        "\n",
        "```\n",
        "1 arm\n",
        "```\n",
        "\n",
        "to arm this vehicle. It will take off, reach altitude 50, and begin to search for the UGV."
      ]
    },
    {
      "cell_type": "markdown",
      "metadata": {},
      "source": [
        "While the search is ongoing, monitor the received signal power by running (on the UAV VM, node 1):\n",
        "\n",
        "```\n",
        "python3 plot_signal_power.py\n",
        "```\n",
        "\n",
        "and confirm that you see a stream of radio measurements, and that the signal is stronger when the UAV is close to the UGV.\n"
      ]
    },
    {
      "cell_type": "markdown",
      "metadata": {
        "id": "LnkN5p-EL7ij"
      },
      "source": [
        "You can monitor the position of the UAV by watching the flight in QGroundControl, or you can watch the position in the experiment console.\n"
      ]
    },
    {
      "cell_type": "markdown",
      "metadata": {
        "id": "RzA0X0maM7nI"
      },
      "source": [
        "The experiment will run for 5 minutes from the time that the UAV reaches altitude. Then, the UAV will return to its original position and land.\n",
        "\n"
      ]
    },
    {
      "cell_type": "markdown",
      "metadata": {
        "id": "TUnO0TgGNzgo"
      },
      "source": [
        "When you see that the \"screens\" column in the experiment console no longer includes a \"vehicle\" entry for the UAV (node 1), then you know that the experiment is complete. You must wait for the experiment to completely finish, because the data files are only written at the end of the experiment."
      ]
    },
    {
      "cell_type": "code",
      "execution_count": null,
      "metadata": {
        "id": "GeFNT1JBNoUs"
      },
      "outputs": [],
      "source": [
        "moviepy.editor.ipython_display(\"uav-wireless-localization/video/aerpaw_start_experiment_an.mp4\", width=800, maxduration=2*60)\n"
      ]
    },
    {
      "cell_type": "markdown",
      "metadata": {
        "id": "N-Dt1BMegrLv"
      },
      "source": [
        "### Transfer data from AERPAW to Colab"
      ]
    },
    {
      "cell_type": "markdown",
      "metadata": {
        "id": "wJDRwGS5hkp9"
      },
      "source": [
        "Once your experiment is complete, you can transfer a CSV file of the search progress and the final optimizer state from AERPAW to your own laptop. Then, you can upload these files to Colab."
      ]
    },
    {
      "cell_type": "markdown",
      "metadata": {
        "id": "JtoREFWHcgNC"
      },
      "source": [
        "On the UAV VM (node 1), run\n",
        "\n",
        "```\n",
        "echo /root/Results/$(ls -tr Results/ | grep ROVER_SEARCH | tail -n 1 )\n",
        "```\n",
        "\n",
        "to get the name of the CSV file.\n",
        "\n",
        "\n",
        "On the UAV VM (node 1), run\n",
        "\n",
        "```\n",
        "echo /root/Results/$(ls -tr Results/ | grep opt_final | tail -n 1 )\n",
        "```\n",
        "\n",
        "to get the name of the \"pickled\" optimizer file."
      ]
    },
    {
      "cell_type": "markdown",
      "metadata": {
        "id": "RgwqiRHqcp-4"
      },
      "source": [
        "Then, in a *local* terminal (**not** inside any SSH session), run\n",
        "\n",
        "```\n",
        "scp -i ~/.ssh/id_rsa_aerpaw root@192.168.X.1:/root/Results/FILENAME .\n",
        "```\n",
        "\n",
        "where\n",
        "\n",
        "* in place of the address with the `X`, you use the address you identified in the manifest,\n",
        "* in place of `/root/Results/FILENAME` you use the filenames you just identified.\n",
        "* the `.` specifies that the file should be copied to your current working directory in your local terminal, but you can change this.\n",
        "\n",
        "You may be prompted for the passphrase for your key, if you set a passphrase when generating the key.\n",
        "\n"
      ]
    },
    {
      "cell_type": "markdown",
      "metadata": {
        "id": "_pHEnkHuc8y1"
      },
      "source": [
        "This will transfer a file `ROVER_SEARCH_DATA.csv` to your laptop. Then, use the file browser in Google Colab to upload both files to Colab."
      ]
    },
    {
      "cell_type": "markdown",
      "metadata": {
        "id": "Cw7eLjE-Uxgi"
      },
      "source": [
        "This will transfer a file `gpr_fitted_model.pickle` to your laptop. Then, use the file browser in Google Colab to upload it to Colab."
      ]
    },
    {
      "cell_type": "markdown",
      "metadata": {
        "id": "nKC2B1UwlIF7"
      },
      "source": [
        "## Analyze experiment results"
      ]
    },
    {
      "cell_type": "markdown",
      "metadata": {
        "id": "Ybl6NIvedKOx"
      },
      "source": [
        "Once you have uploaded `ROVER_SEARCH_DATA.csv` and `gpr_fitted_model.pickle` to Colab, we can analyze the experiment results."
      ]
    },
    {
      "cell_type": "code",
      "execution_count": null,
      "metadata": {
        "id": "Dw_AqcPqn0rr"
      },
      "outputs": [],
      "source": [
        "true_lat = 35.729\n",
        "true_lon = -78.699"
      ]
    },
    {
      "cell_type": "code",
      "execution_count": null,
      "metadata": {
        "id": "WEvBkddS5tdV"
      },
      "outputs": [],
      "source": [
        "BOUND_NE={'lat':35.73030799378120, 'lon':-78.69670002283071}\n",
        "BOUND_NW={'lat':35.73030799378120, 'lon':-78.69980159100491}\n",
        "BOUND_SE={'lat':35.72774492720433, 'lon':-78.69670002283071}\n",
        "BOUND_SW={'lat':35.72774492720433, 'lon':-78.69980159100491}\n",
        "\n",
        "MAX_LON = BOUND_NE['lon']\n",
        "MIN_LON = BOUND_NW['lon']\n",
        "MAX_LAT = BOUND_NE['lat']\n",
        "MIN_LAT = BOUND_SE['lat']"
      ]
    },
    {
      "cell_type": "code",
      "execution_count": null,
      "metadata": {
        "id": "0hBYrLyC34A6"
      },
      "outputs": [],
      "source": [
        "utility = UtilityFunction()"
      ]
    },
    {
      "cell_type": "markdown",
      "metadata": {
        "id": "d8KVmbaflyqB"
      },
      "source": [
        "### Fitted model"
      ]
    },
    {
      "cell_type": "markdown",
      "metadata": {
        "id": "A8-VnrS92Y2O"
      },
      "source": [
        "Let us visualize the fitted model!"
      ]
    },
    {
      "cell_type": "code",
      "execution_count": null,
      "metadata": {
        "id": "yJ99MZKSHkzX"
      },
      "outputs": [],
      "source": [
        "with open('gpr_fitted_model.pickle', 'rb') as handle:\n",
        "    gp = pickle.load(handle)"
      ]
    },
    {
      "cell_type": "code",
      "execution_count": null,
      "metadata": {
        "id": "E0yWrTdc21nf"
      },
      "outputs": [],
      "source": [
        "def plot_3D_exp(elev=20, azim=-70):\n",
        "\n",
        "  lat_grid = np.linspace(BOUND_SE['lat'], BOUND_NE['lat'], 100)\n",
        "  lon_grid = np.linspace(BOUND_SE['lon'], BOUND_SW['lon'], 100)\n",
        "\n",
        "  coord_grid  = np.meshgrid(lat_grid, lon_grid)\n",
        "  coord_array = np.column_stack([coord_grid[0].ravel(), coord_grid[1].ravel()])\n",
        "\n",
        "  predictions = gp.predict(coord_array)\n",
        "  gpr_mean = predictions.reshape(100, 100)\n",
        "\n",
        "  fig = plt.figure(figsize=(10,10))\n",
        "  ax = fig.add_subplot(projection = '3d')\n",
        "\n",
        "  lat_array = coord_array[:,0].reshape(100, 100)\n",
        "  lon_array = coord_array[:,1].reshape(100, 100)\n",
        "\n",
        "  ax.plot_wireframe(lon_array, lat_array, gpr_mean, color='black', alpha=0.3)\n",
        "  ax.plot_surface(lon_array, lat_array, gpr_mean, cmap=cm.viridis, alpha=0.7)\n",
        "\n",
        "  y = gp.y_train_*gp._y_train_std + gp._y_train_mean\n",
        "  ax.scatter3D(gp.X_train_[:,1], gp.X_train_[:,0], y, c=y, edgecolor='black', s=50);\n",
        "\n",
        "  ax.ticklabel_format(useOffset=False)\n",
        "  ax.set_xlabel(\"Longitude\")\n",
        "  ax.set_ylabel(\"Latitude\")\n",
        "  ax.set_zlabel(\"Received Signal Strength\")\n",
        "\n",
        "  ax.view_init(elev=elev, azim=azim)\n",
        "  plt.show()\n",
        "\n"
      ]
    },
    {
      "cell_type": "code",
      "execution_count": null,
      "metadata": {
        "id": "WrGwOiwQ3QEQ"
      },
      "outputs": [],
      "source": [
        "def vis_optimizer_exp():\n",
        "  lat_grid = np.linspace(BOUND_SE['lat'], BOUND_NE['lat'], 100)\n",
        "  lon_grid = np.linspace(BOUND_SE['lon'], BOUND_SW['lon'], 100)\n",
        "\n",
        "  coord_grid  = np.meshgrid(lat_grid, lon_grid)\n",
        "  coord_array = np.column_stack([coord_grid[0].ravel(), coord_grid[1].ravel()])\n",
        "\n",
        "  predictions = gp.predict(coord_array, return_std=True)\n",
        "  gpr_mean = predictions[0].reshape(100, 100)\n",
        "  gpr_var  = predictions[1].reshape(100, 100)\n",
        "\n",
        "  lat_array = coord_array[:,0].reshape(100, 100)\n",
        "  lon_array = coord_array[:,1].reshape(100, 100)\n",
        "\n",
        "  y_max = 0\n",
        "\n",
        "  util  = utility.utility(coord_array, gp, 0).reshape(100, 100)\n",
        "\n",
        "  fig, axes = plt.subplots(nrows=2, ncols=2, sharex=True, sharey=True, figsize=(10, 8));\n",
        "\n",
        "  axes[0, 0].contourf(lon_array, lat_array, gpr_mean, cmap='viridis', vmin=20, vmax=50, levels=8);\n",
        "  axes[0, 0].plot(coord_array[np.argmax(gpr_mean)][1], coord_array[np.argmax(gpr_mean)][0], 'r+');\n",
        "  axes[0, 0].plot(true_lon, true_lat, 'r*');\n",
        "  axes[0, 0].set_title(\"Mean of predicted received signal strength\");\n",
        "\n",
        "  axes[1,0].contourf(lon_array, lat_array, gpr_var, cmap='viridis');\n",
        "  axes[1, 0].plot(coord_array[np.argmax(gpr_mean)][1], coord_array[np.argmax(gpr_mean)][0], 'r+');\n",
        "  axes[1, 0].plot(true_lon, true_lat, 'r*');\n",
        "  axes[1, 0].set_title(\"Variance of predicted received signal strength\");\n",
        "\n",
        "  try:\n",
        "    for i, x_train in enumerate(gp.X_train_):\n",
        "      axes[0, 1].text(x_train[1], x_train[0], str(i), color=\"white\", fontsize=8, fontweight='heavy', ha=\"center\", va=\"center\",\n",
        "             bbox = dict(boxstyle=f\"circle\", fc=\"black\"))\n",
        "  except AttributeError:\n",
        "    pass\n",
        "  try:\n",
        "      axes[0, 1].plot(next_point_to_probe['lon'], next_point_to_probe['lat'], 'kP');\n",
        "  except NameError:\n",
        "    pass\n",
        "  axes[0, 1].plot(coord_array[np.argmax(gpr_mean)][1], coord_array[np.argmax(gpr_mean)][0], 'r+');\n",
        "  axes[0, 1].plot(true_lon, true_lat, 'r*');\n",
        "  axes[0, 1].set_title(\"Actual function\");\n",
        "\n",
        "  axes[1,1].contourf(lon_array, lat_array, util, cmap='viridis', vmin=20, vmax=50, levels=8);\n",
        "  axes[1, 1].plot(coord_array[np.argmax(gpr_mean)][1], coord_array[np.argmax(gpr_mean)][0], 'r+');\n",
        "  axes[1, 1].plot(true_lon, true_lat, 'r*');\n",
        "  axes[1,1].set_title(\"Value of utility function\");\n",
        "\n",
        "  try:\n",
        "      n_samples = gp.X_train_.shape[0]\n",
        "  except AttributeError:\n",
        "      n_samples = 0\n",
        "\n",
        "  true_pos = (true_lat, true_lon)\n",
        "  est_pos  = (coord_array[np.argmax(gpr_mean)][0], coord_array[np.argmax(gpr_mean)][1])\n",
        "  est_error = geopy.distance.geodesic(true_pos, est_pos).m\n",
        "  plt.suptitle(\"Optimizer state after %d samples, error: %f m\" % (n_samples, est_error));\n",
        "\n",
        "  plt.ticklabel_format(useOffset=False) ;\n",
        "  plt.tight_layout();\n"
      ]
    },
    {
      "cell_type": "code",
      "execution_count": null,
      "metadata": {
        "id": "NQ-Lzz7_VeGF"
      },
      "outputs": [],
      "source": [
        "interact(plot_3D_exp, elev=widgets.IntSlider(min=-90, max=90, step=10, value=20),\n",
        "          azim=widgets.IntSlider(min=-90, max=90, step=10, value=-70));\n"
      ]
    },
    {
      "cell_type": "code",
      "execution_count": null,
      "metadata": {
        "id": "QKXwuGzyVamf"
      },
      "outputs": [],
      "source": [
        "vis_optimizer_exp()"
      ]
    },
    {
      "cell_type": "markdown",
      "metadata": {
        "id": "OJwfwgTS448n"
      },
      "source": [
        "Note that in the real scenario, we don't have the actual function (it is not a synthetic function anymore!) so we cannot plot this."
      ]
    },
    {
      "cell_type": "markdown",
      "metadata": {
        "id": "0BlDcWxn5OdJ"
      },
      "source": [
        "Here are the fitted kernel parameters of the final model -"
      ]
    },
    {
      "cell_type": "code",
      "execution_count": null,
      "metadata": {
        "id": "WDbi4uam_eFS"
      },
      "outputs": [],
      "source": [
        "gp.kernel_.get_params()"
      ]
    },
    {
      "cell_type": "markdown",
      "metadata": {
        "id": "PvrQajRHgoVs"
      },
      "source": [
        "## Additional experiments"
      ]
    },
    {
      "cell_type": "markdown",
      "metadata": {
        "id": "BZhOvjpnwFPu"
      },
      "source": [
        "You will run this experiment for a different starting position of the ground vehicle (i.e. the hikers). To generate the new start position, you will put your net ID in the following cell, then run it."
      ]
    },
    {
      "cell_type": "code",
      "execution_count": null,
      "metadata": {
        "id": "h48Ld9WswM9w"
      },
      "outputs": [],
      "source": [
        "netID = \"ff524\"\n",
        "seed = hash(netID) % (2**32)\n",
        "np.random.seed(seed)\n",
        "\n",
        "true_lat = np.random.uniform(BOUND_SE['lat'], BOUND_NE['lat'])\n",
        "true_lon = np.random.uniform(BOUND_SE['lon'], BOUND_SW['lon'])\n",
        "print(true_lat, true_lon)"
      ]
    },
    {
      "cell_type": "markdown",
      "metadata": {
        "id": "DkOPPZd97SCh"
      },
      "source": [
        "All of the results you submit should be for *your* position of the ground vehicle (derived from your net ID in the cell below). You will submit results from three experiments, detailed below."
      ]
    },
    {
      "cell_type": "markdown",
      "metadata": {
        "id": "wT8zqqzMwdMy"
      },
      "source": [
        "##### Experiment 1\n",
        "\n",
        "Now, you will re-do the \"Run a rover search experiment on AERPAW\". You will:\n",
        "\n",
        "* Repeat \"Setup steps in experiment console\", but use the latitude and longitude printed by the previous cell (after you replace my net ID with yours!)\n",
        "* Repeat the \"Run experiment\" steps (including \"Reset\" and \"Start experiment\").\n",
        "* After your experiment is complete, make sure you save the data (CSV file and \"pickle\" file) from your previous experiment in another directory (so they will not be overwritten by data from your new experiment). Then, you'll do the \"Transfer data from AERPAW to Colab\" step.\n",
        "\n",
        "Before you \"Analyze experiment results\", you will modify the `true_lat` and `true_lon` at the beginning of that section.\n",
        "\n",
        "Then, you will repeat the analysis for your new experiment (with the \"hikers' position\" at this new location).\n",
        "\n",
        "**Save the data files, \"pickled\" model, and images from this analysis for Part 1 of your submission. Also note the parameters of the kernel in the fitted model.**\n"
      ]
    },
    {
      "cell_type": "markdown",
      "metadata": {
        "id": "nm5HAYJyxtnD"
      },
      "source": [
        "##### Experiment 2\n",
        "\n",
        "\n",
        "\n",
        "You may observe that the fitted model doesn't seem to represent the smooth behavior you expect, and you may be concerned about overfitting.\n",
        "\n",
        "With noisy data (which this is! Radio signals are inherently noisy), the GPR may try too hard to fit the noise in the data. In a GPR, we can solve this by adding a \"white kernel\" to \"explain\" the noise in the signal.\n",
        "\n"
      ]
    },
    {
      "cell_type": "markdown",
      "metadata": {
        "id": "qOMgENC76v8h"
      },
      "source": [
        "On the UAV VM (node 1), run\n",
        "\n",
        "```\n",
        "nano /root/Profiles/vehicle_control/RoverSearch/rover_search.py\n",
        "```\n",
        "\n",
        "scroll to the part that says\n",
        "\n",
        "```\n",
        "    # set the kernel\n",
        "    kernel = RBF()\n",
        "```\n",
        "\n",
        "and change it to\n",
        "\n",
        "\n",
        "```\n",
        "    # set the kernel\n",
        "    kernel = RBF() + WhiteKernel()\n",
        "```\n",
        "\n",
        "then use Ctrl+O and Enter to save the file, and Ctrl+X to quit."
      ]
    },
    {
      "cell_type": "markdown",
      "metadata": {
        "id": "ckfynwEX6_jK"
      },
      "source": [
        "Next, you will:\n",
        "\n",
        "* Repeat the \"Run experiment\" steps (including \"Reset\" and \"Start experiment\").\n",
        "* After your experiment is complete, make sure you save the data (CSV file and \"pickle\" file) from your previous experiment in another directory (so they will not be overwritten by data from your new experiment). Then, you'll do the \"Transfer data from AERPAW to Colab\" step.\n",
        "\n",
        "Then, you will repeat the analysis for your new experiment.\n",
        "\n",
        "**Save the data files, \"pickled\" model, and images from this analysis for Part 2 of your submission. Also note the parameters of the kernel in the fitted model.**\n"
      ]
    },
    {
      "cell_type": "markdown",
      "metadata": {
        "id": "NX_vKWS69Gin"
      },
      "source": [
        "Comment on the results, specifically:\n",
        "\n",
        "* how has the appearance of the fitted model changed from the previous experiment, and why?\n",
        "* what change do you see in the fitted model kernel parameters? What is the reason for this change?"
      ]
    },
    {
      "cell_type": "markdown",
      "metadata": {
        "id": "xW0Ze6kv7QDE"
      },
      "source": [
        "##### Experiment 3\n"
      ]
    },
    {
      "cell_type": "markdown",
      "metadata": {
        "id": "drd_EwxP7kxM"
      },
      "source": [
        "Finally, we will explore the tradeoff between \"exploration\" and \"exploitation\" of the feature space in our Bayes search.\n"
      ]
    },
    {
      "cell_type": "markdown",
      "metadata": {
        "id": "FFDUGpar7pdV"
      },
      "source": [
        "On the UAV VM (node 1), run\n",
        "\n",
        "```\n",
        "nano /root/Profiles/vehicle_control/RoverSearch/rover_search.py\n",
        "```\n",
        "\n",
        "scroll to the part that says\n",
        "\n",
        "```\n",
        "    # change this utility function to manage the\n",
        "    # exploration/exploitation tradeoff\n",
        "    utility = UtilityFunction(kind=\"ucb\", kappa=1)\n",
        "```\n",
        "\n",
        "and change it to\n",
        "\n",
        "\n",
        "```\n",
        "    # change this utility function to manage the\n",
        "    # exploration/exploitation tradeoff\n",
        "    utility = UtilityFunction(kind=\"ucb\", kappa=100)\n",
        "```\n",
        "\n",
        "then use Ctrl+O and Enter to save the file, and Ctrl+X to quit."
      ]
    },
    {
      "cell_type": "markdown",
      "metadata": {
        "id": "uquxHAai72Vz"
      },
      "source": [
        "This will encourage more \"exploration\" of new parts of the feature space, vs \"exploitation\" of parts that are already known to have high values."
      ]
    },
    {
      "cell_type": "markdown",
      "metadata": {
        "id": "uiRwLdIX8EzD"
      },
      "source": [
        "Next, you will:\n",
        "\n",
        "* Repeat the \"Run experiment\" steps (including \"Reset\" and \"Start experiment\").\n",
        "* After your experiment is complete, make sure you save the data (CSV file and \"pickle\" file) from your previous experiment in another directory (so they will not be overwritten by data from your new experiment). Then, you'll do the \"Transfer data from AERPAW to Colab\" step.\n",
        "\n",
        "Then, you will repeat the analysis for your new experiment.\n",
        "\n",
        "**Save the data files, \"pickled\" model, and images from this analysis for Part 3 of your submission. Also note the parameters of the kernel in the fitted model.**\n"
      ]
    },
    {
      "cell_type": "markdown",
      "metadata": {
        "id": "sfCYv28r_Tjm"
      },
      "source": [
        "Comment on the results, specifically:\n",
        "\n",
        "* how has the appearance of the fitted model changed from the previous experiment, and why?\n",
        "* what do you notice that is different about the sequence of samples visited by the UAV in this experiment?"
      ]
    }
  ],
  "metadata": {
    "colab": {
      "provenance": []
    },
    "kernelspec": {
      "display_name": "Python 3",
      "name": "python3"
    },
    "language_info": {
      "name": "python"
    }
  },
  "nbformat": 4,
  "nbformat_minor": 0
}
